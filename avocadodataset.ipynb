{
 "cells": [
  {
   "cell_type": "code",
   "execution_count": 1,
   "id": "3d85e604",
   "metadata": {},
   "outputs": [],
   "source": [
    "import pandas as pd\n",
    "import numpy as np"
   ]
  },
  {
   "cell_type": "code",
   "execution_count": 2,
   "id": "1ab07837",
   "metadata": {},
   "outputs": [],
   "source": [
    "# loading the dataset"
   ]
  },
  {
   "cell_type": "code",
   "execution_count": 3,
   "id": "a561e92f",
   "metadata": {},
   "outputs": [
    {
     "data": {
      "text/html": [
       "<div>\n",
       "<style scoped>\n",
       "    .dataframe tbody tr th:only-of-type {\n",
       "        vertical-align: middle;\n",
       "    }\n",
       "\n",
       "    .dataframe tbody tr th {\n",
       "        vertical-align: top;\n",
       "    }\n",
       "\n",
       "    .dataframe thead th {\n",
       "        text-align: right;\n",
       "    }\n",
       "</style>\n",
       "<table border=\"1\" class=\"dataframe\">\n",
       "  <thead>\n",
       "    <tr style=\"text-align: right;\">\n",
       "      <th></th>\n",
       "      <th>Unnamed: 0</th>\n",
       "      <th>Date</th>\n",
       "      <th>AveragePrice</th>\n",
       "      <th>Total Volume</th>\n",
       "      <th>4046</th>\n",
       "      <th>4225</th>\n",
       "      <th>4770</th>\n",
       "      <th>Total Bags</th>\n",
       "      <th>Small Bags</th>\n",
       "      <th>Large Bags</th>\n",
       "      <th>XLarge Bags</th>\n",
       "      <th>type</th>\n",
       "      <th>year</th>\n",
       "      <th>region</th>\n",
       "    </tr>\n",
       "  </thead>\n",
       "  <tbody>\n",
       "    <tr>\n",
       "      <th>0</th>\n",
       "      <td>0</td>\n",
       "      <td>2015-12-27</td>\n",
       "      <td>1.33</td>\n",
       "      <td>64236.62</td>\n",
       "      <td>1036.74</td>\n",
       "      <td>54454.85</td>\n",
       "      <td>48.16</td>\n",
       "      <td>8696.87</td>\n",
       "      <td>8603.62</td>\n",
       "      <td>93.25</td>\n",
       "      <td>0.0</td>\n",
       "      <td>conventional</td>\n",
       "      <td>2015</td>\n",
       "      <td>Albany</td>\n",
       "    </tr>\n",
       "    <tr>\n",
       "      <th>1</th>\n",
       "      <td>1</td>\n",
       "      <td>2015-12-20</td>\n",
       "      <td>1.35</td>\n",
       "      <td>54876.98</td>\n",
       "      <td>674.28</td>\n",
       "      <td>44638.81</td>\n",
       "      <td>58.33</td>\n",
       "      <td>9505.56</td>\n",
       "      <td>9408.07</td>\n",
       "      <td>97.49</td>\n",
       "      <td>0.0</td>\n",
       "      <td>conventional</td>\n",
       "      <td>2015</td>\n",
       "      <td>Albany</td>\n",
       "    </tr>\n",
       "    <tr>\n",
       "      <th>2</th>\n",
       "      <td>2</td>\n",
       "      <td>2015-12-13</td>\n",
       "      <td>0.93</td>\n",
       "      <td>118220.22</td>\n",
       "      <td>794.70</td>\n",
       "      <td>109149.67</td>\n",
       "      <td>130.50</td>\n",
       "      <td>8145.35</td>\n",
       "      <td>8042.21</td>\n",
       "      <td>103.14</td>\n",
       "      <td>0.0</td>\n",
       "      <td>conventional</td>\n",
       "      <td>2015</td>\n",
       "      <td>Albany</td>\n",
       "    </tr>\n",
       "    <tr>\n",
       "      <th>3</th>\n",
       "      <td>3</td>\n",
       "      <td>2015-12-06</td>\n",
       "      <td>1.08</td>\n",
       "      <td>78992.15</td>\n",
       "      <td>1132.00</td>\n",
       "      <td>71976.41</td>\n",
       "      <td>72.58</td>\n",
       "      <td>5811.16</td>\n",
       "      <td>5677.40</td>\n",
       "      <td>133.76</td>\n",
       "      <td>0.0</td>\n",
       "      <td>conventional</td>\n",
       "      <td>2015</td>\n",
       "      <td>Albany</td>\n",
       "    </tr>\n",
       "    <tr>\n",
       "      <th>4</th>\n",
       "      <td>4</td>\n",
       "      <td>2015-11-29</td>\n",
       "      <td>1.28</td>\n",
       "      <td>51039.60</td>\n",
       "      <td>941.48</td>\n",
       "      <td>43838.39</td>\n",
       "      <td>75.78</td>\n",
       "      <td>6183.95</td>\n",
       "      <td>5986.26</td>\n",
       "      <td>197.69</td>\n",
       "      <td>0.0</td>\n",
       "      <td>conventional</td>\n",
       "      <td>2015</td>\n",
       "      <td>Albany</td>\n",
       "    </tr>\n",
       "  </tbody>\n",
       "</table>\n",
       "</div>"
      ],
      "text/plain": [
       "   Unnamed: 0        Date  AveragePrice  Total Volume     4046       4225  \\\n",
       "0           0  2015-12-27          1.33      64236.62  1036.74   54454.85   \n",
       "1           1  2015-12-20          1.35      54876.98   674.28   44638.81   \n",
       "2           2  2015-12-13          0.93     118220.22   794.70  109149.67   \n",
       "3           3  2015-12-06          1.08      78992.15  1132.00   71976.41   \n",
       "4           4  2015-11-29          1.28      51039.60   941.48   43838.39   \n",
       "\n",
       "     4770  Total Bags  Small Bags  Large Bags  XLarge Bags          type  \\\n",
       "0   48.16     8696.87     8603.62       93.25          0.0  conventional   \n",
       "1   58.33     9505.56     9408.07       97.49          0.0  conventional   \n",
       "2  130.50     8145.35     8042.21      103.14          0.0  conventional   \n",
       "3   72.58     5811.16     5677.40      133.76          0.0  conventional   \n",
       "4   75.78     6183.95     5986.26      197.69          0.0  conventional   \n",
       "\n",
       "   year  region  \n",
       "0  2015  Albany  \n",
       "1  2015  Albany  \n",
       "2  2015  Albany  \n",
       "3  2015  Albany  \n",
       "4  2015  Albany  "
      ]
     },
     "execution_count": 3,
     "metadata": {},
     "output_type": "execute_result"
    }
   ],
   "source": [
    "df=pd.read_csv(r'D:\\avocado.csv')\n",
    "df.head()"
   ]
  },
  {
   "cell_type": "code",
   "execution_count": 4,
   "id": "47eef2db",
   "metadata": {},
   "outputs": [],
   "source": [
    "# checking the shape"
   ]
  },
  {
   "cell_type": "code",
   "execution_count": 5,
   "id": "cc79e941",
   "metadata": {},
   "outputs": [
    {
     "data": {
      "text/plain": [
       "(18249, 14)"
      ]
     },
     "execution_count": 5,
     "metadata": {},
     "output_type": "execute_result"
    }
   ],
   "source": [
    "df.shape"
   ]
  },
  {
   "cell_type": "code",
   "execution_count": 7,
   "id": "5f5d5322",
   "metadata": {},
   "outputs": [
    {
     "data": {
      "text/plain": [
       "Unnamed: 0      0\n",
       "Date            0\n",
       "AveragePrice    0\n",
       "Total Volume    0\n",
       "4046            0\n",
       "4225            0\n",
       "4770            0\n",
       "Total Bags      0\n",
       "Small Bags      0\n",
       "Large Bags      0\n",
       "XLarge Bags     0\n",
       "type            0\n",
       "year            0\n",
       "region          0\n",
       "dtype: int64"
      ]
     },
     "execution_count": 7,
     "metadata": {},
     "output_type": "execute_result"
    }
   ],
   "source": [
    "# checking the nulls\n",
    "df.isnull().sum()"
   ]
  },
  {
   "cell_type": "code",
   "execution_count": 8,
   "id": "ccf224df",
   "metadata": {},
   "outputs": [],
   "source": [
    "# as there are no nulls lets move further"
   ]
  },
  {
   "cell_type": "code",
   "execution_count": 9,
   "id": "8e7f101d",
   "metadata": {},
   "outputs": [],
   "source": [
    "# lets check the information of the dataset"
   ]
  },
  {
   "cell_type": "code",
   "execution_count": 10,
   "id": "68844528",
   "metadata": {},
   "outputs": [
    {
     "name": "stdout",
     "output_type": "stream",
     "text": [
      "<class 'pandas.core.frame.DataFrame'>\n",
      "RangeIndex: 18249 entries, 0 to 18248\n",
      "Data columns (total 14 columns):\n",
      " #   Column        Non-Null Count  Dtype  \n",
      "---  ------        --------------  -----  \n",
      " 0   Unnamed: 0    18249 non-null  int64  \n",
      " 1   Date          18249 non-null  object \n",
      " 2   AveragePrice  18249 non-null  float64\n",
      " 3   Total Volume  18249 non-null  float64\n",
      " 4   4046          18249 non-null  float64\n",
      " 5   4225          18249 non-null  float64\n",
      " 6   4770          18249 non-null  float64\n",
      " 7   Total Bags    18249 non-null  float64\n",
      " 8   Small Bags    18249 non-null  float64\n",
      " 9   Large Bags    18249 non-null  float64\n",
      " 10  XLarge Bags   18249 non-null  float64\n",
      " 11  type          18249 non-null  object \n",
      " 12  year          18249 non-null  int64  \n",
      " 13  region        18249 non-null  object \n",
      "dtypes: float64(9), int64(2), object(3)\n",
      "memory usage: 1.9+ MB\n"
     ]
    }
   ],
   "source": [
    "df.info()"
   ]
  },
  {
   "cell_type": "code",
   "execution_count": 11,
   "id": "c49ab013",
   "metadata": {},
   "outputs": [
    {
     "data": {
      "text/plain": [
       "Unnamed: 0        int64\n",
       "Date             object\n",
       "AveragePrice    float64\n",
       "Total Volume    float64\n",
       "4046            float64\n",
       "4225            float64\n",
       "4770            float64\n",
       "Total Bags      float64\n",
       "Small Bags      float64\n",
       "Large Bags      float64\n",
       "XLarge Bags     float64\n",
       "type             object\n",
       "year              int64\n",
       "region           object\n",
       "dtype: object"
      ]
     },
     "execution_count": 11,
     "metadata": {},
     "output_type": "execute_result"
    }
   ],
   "source": [
    "# lets check the datatypes of the dataset\n",
    "df.dtypes"
   ]
  },
  {
   "cell_type": "code",
   "execution_count": 12,
   "id": "562e32ae",
   "metadata": {},
   "outputs": [],
   "source": [
    "# data visualization\n",
    "# for that i am importing necessary libraries\n",
    "import matplotlib.pyplot as plt\n",
    "import seaborn as sns\n",
    "import warnings\n",
    "warnings.filterwarnings('ignore')"
   ]
  },
  {
   "cell_type": "code",
   "execution_count": 13,
   "id": "c559bfda",
   "metadata": {},
   "outputs": [
    {
     "name": "stdout",
     "output_type": "stream",
     "text": [
      "conventional    9126\n",
      "organic         9123\n",
      "Name: type, dtype: int64\n"
     ]
    },
    {
     "data": {
      "image/png": "[encoded data removed]",
      "text/plain": [
       "<Figure size 432x288 with 1 Axes>"
      ]
     },
     "metadata": {
      "needs_background": "light"
     },
     "output_type": "display_data"
    }
   ],
   "source": [
    "ax=sns.countplot(x='type',data=df)\n",
    "print(df[\"type\"].value_counts())"
   ]
  },
  {
   "cell_type": "code",
   "execution_count": 14,
   "id": "58e25204",
   "metadata": {},
   "outputs": [],
   "source": [
    "# people prefered almost both types of avocados"
   ]
  },
  {
   "cell_type": "code",
   "execution_count": 15,
   "id": "69a4f72b",
   "metadata": {},
   "outputs": [
    {
     "name": "stdout",
     "output_type": "stream",
     "text": [
      "2017    5722\n",
      "2016    5616\n",
      "2015    5615\n",
      "2018    1296\n",
      "Name: year, dtype: int64\n"
     ]
    },
    {
     "data": {
      "image/png": "[encoded data removed]",
      "text/plain": [
       "<Figure size 432x288 with 1 Axes>"
      ]
     },
     "metadata": {
      "needs_background": "light"
     },
     "output_type": "display_data"
    }
   ],
   "source": [
    "ax=sns.countplot(x='year',data=df)\n",
    "print(df[\"year\"].value_counts())"
   ]
  },
  {
   "cell_type": "code",
   "execution_count": 16,
   "id": "03f607fb",
   "metadata": {},
   "outputs": [],
   "source": [
    "# most of the avocados was sold in the year 2015,2016,2017 and very less in 2018"
   ]
  },
  {
   "cell_type": "code",
   "execution_count": 17,
   "id": "0612556c",
   "metadata": {},
   "outputs": [],
   "source": [
    "# lets count the number of zeros in dataset"
   ]
  },
  {
   "cell_type": "code",
   "execution_count": 18,
   "id": "3849c108",
   "metadata": {},
   "outputs": [
    {
     "data": {
      "text/plain": [
       "Unnamed: 0        432\n",
       "Date                0\n",
       "AveragePrice        0\n",
       "Total Volume        0\n",
       "4046              242\n",
       "4225               61\n",
       "4770             5497\n",
       "Total Bags         15\n",
       "Small Bags        159\n",
       "Large Bags       2370\n",
       "XLarge Bags     12048\n",
       "type                0\n",
       "year                0\n",
       "region              0\n",
       "dtype: int64"
      ]
     },
     "execution_count": 18,
     "metadata": {},
     "output_type": "execute_result"
    }
   ],
   "source": [
    "#lets check\n",
    "count=(df==0).sum()\n",
    "count"
   ]
  },
  {
   "cell_type": "code",
   "execution_count": 19,
   "id": "035ccbcb",
   "metadata": {},
   "outputs": [],
   "source": [
    "# lets deal with zero"
   ]
  },
  {
   "cell_type": "code",
   "execution_count": 20,
   "id": "baf00b46",
   "metadata": {},
   "outputs": [],
   "source": [
    "df['4046']=df['4046'].replace(0,df['4046'].mean())"
   ]
  },
  {
   "cell_type": "code",
   "execution_count": 21,
   "id": "0a04657f",
   "metadata": {},
   "outputs": [],
   "source": [
    "df['4225']=df['4225'].replace(0,df['4225'].mean())\n",
    "df['4770']=df['4770'].replace(0,df['4770'].mean())\n",
    "df['Total Bags']=df['Total Bags'].replace(0,df['Total Bags'].mean())\n",
    "df['Small Bags']=df['Small Bags'].replace(0,df['Small Bags'].mean())\n",
    "df['Large Bags']=df['Large Bags'].replace(0,df['Large Bags'].mean())\n",
    "df['XLarge Bags']=df['XLarge Bags'].replace(0,df['XLarge Bags'].mean())\n",
    "\n"
   ]
  },
  {
   "cell_type": "code",
   "execution_count": 22,
   "id": "80578729",
   "metadata": {},
   "outputs": [
    {
     "data": {
      "text/plain": [
       "Unnamed: 0      432\n",
       "Date              0\n",
       "AveragePrice      0\n",
       "Total Volume      0\n",
       "4046              0\n",
       "4225              0\n",
       "4770              0\n",
       "Total Bags        0\n",
       "Small Bags        0\n",
       "Large Bags        0\n",
       "XLarge Bags       0\n",
       "type              0\n",
       "year              0\n",
       "region            0\n",
       "dtype: int64"
      ]
     },
     "execution_count": 22,
     "metadata": {},
     "output_type": "execute_result"
    }
   ],
   "source": [
    "# lets check for zeros now\n",
    "\n",
    "count=(df==0).sum()\n",
    "count"
   ]
  },
  {
   "cell_type": "code",
   "execution_count": 23,
   "id": "39a1965e",
   "metadata": {},
   "outputs": [
    {
     "data": {
      "text/plain": [
       "Unnamed: 0        int64\n",
       "Date             object\n",
       "AveragePrice    float64\n",
       "Total Volume    float64\n",
       "4046            float64\n",
       "4225            float64\n",
       "4770            float64\n",
       "Total Bags      float64\n",
       "Small Bags      float64\n",
       "Large Bags      float64\n",
       "XLarge Bags     float64\n",
       "type             object\n",
       "year              int64\n",
       "region           object\n",
       "dtype: object"
      ]
     },
     "execution_count": 23,
     "metadata": {},
     "output_type": "execute_result"
    }
   ],
   "source": [
    "df.dtypes"
   ]
  },
  {
   "cell_type": "code",
   "execution_count": 24,
   "id": "3c73fc35",
   "metadata": {},
   "outputs": [],
   "source": [
    "# as we can see there are columns with object datatype lets encode them"
   ]
  },
  {
   "cell_type": "code",
   "execution_count": 25,
   "id": "6ed27607",
   "metadata": {},
   "outputs": [],
   "source": [
    "from sklearn.preprocessing import LabelEncoder"
   ]
  },
  {
   "cell_type": "code",
   "execution_count": 26,
   "id": "339b74bc",
   "metadata": {},
   "outputs": [],
   "source": [
    "lab_enc=LabelEncoder()"
   ]
  },
  {
   "cell_type": "code",
   "execution_count": 27,
   "id": "a324e99b",
   "metadata": {},
   "outputs": [
    {
     "data": {
      "text/html": [
       "<div>\n",
       "<style scoped>\n",
       "    .dataframe tbody tr th:only-of-type {\n",
       "        vertical-align: middle;\n",
       "    }\n",
       "\n",
       "    .dataframe tbody tr th {\n",
       "        vertical-align: top;\n",
       "    }\n",
       "\n",
       "    .dataframe thead th {\n",
       "        text-align: right;\n",
       "    }\n",
       "</style>\n",
       "<table border=\"1\" class=\"dataframe\">\n",
       "  <thead>\n",
       "    <tr style=\"text-align: right;\">\n",
       "      <th></th>\n",
       "      <th>Unnamed: 0</th>\n",
       "      <th>Date</th>\n",
       "      <th>AveragePrice</th>\n",
       "      <th>Total Volume</th>\n",
       "      <th>4046</th>\n",
       "      <th>4225</th>\n",
       "      <th>4770</th>\n",
       "      <th>Total Bags</th>\n",
       "      <th>Small Bags</th>\n",
       "      <th>Large Bags</th>\n",
       "      <th>XLarge Bags</th>\n",
       "      <th>type</th>\n",
       "      <th>year</th>\n",
       "      <th>region</th>\n",
       "    </tr>\n",
       "  </thead>\n",
       "  <tbody>\n",
       "    <tr>\n",
       "      <th>0</th>\n",
       "      <td>0</td>\n",
       "      <td>2015-12-27</td>\n",
       "      <td>1.33</td>\n",
       "      <td>64236.62</td>\n",
       "      <td>1036.74</td>\n",
       "      <td>54454.85</td>\n",
       "      <td>48.16</td>\n",
       "      <td>8696.87</td>\n",
       "      <td>8603.62</td>\n",
       "      <td>93.25</td>\n",
       "      <td>3106.426507</td>\n",
       "      <td>0</td>\n",
       "      <td>2015</td>\n",
       "      <td>Albany</td>\n",
       "    </tr>\n",
       "    <tr>\n",
       "      <th>1</th>\n",
       "      <td>1</td>\n",
       "      <td>2015-12-20</td>\n",
       "      <td>1.35</td>\n",
       "      <td>54876.98</td>\n",
       "      <td>674.28</td>\n",
       "      <td>44638.81</td>\n",
       "      <td>58.33</td>\n",
       "      <td>9505.56</td>\n",
       "      <td>9408.07</td>\n",
       "      <td>97.49</td>\n",
       "      <td>3106.426507</td>\n",
       "      <td>0</td>\n",
       "      <td>2015</td>\n",
       "      <td>Albany</td>\n",
       "    </tr>\n",
       "    <tr>\n",
       "      <th>2</th>\n",
       "      <td>2</td>\n",
       "      <td>2015-12-13</td>\n",
       "      <td>0.93</td>\n",
       "      <td>118220.22</td>\n",
       "      <td>794.70</td>\n",
       "      <td>109149.67</td>\n",
       "      <td>130.50</td>\n",
       "      <td>8145.35</td>\n",
       "      <td>8042.21</td>\n",
       "      <td>103.14</td>\n",
       "      <td>3106.426507</td>\n",
       "      <td>0</td>\n",
       "      <td>2015</td>\n",
       "      <td>Albany</td>\n",
       "    </tr>\n",
       "    <tr>\n",
       "      <th>3</th>\n",
       "      <td>3</td>\n",
       "      <td>2015-12-06</td>\n",
       "      <td>1.08</td>\n",
       "      <td>78992.15</td>\n",
       "      <td>1132.00</td>\n",
       "      <td>71976.41</td>\n",
       "      <td>72.58</td>\n",
       "      <td>5811.16</td>\n",
       "      <td>5677.40</td>\n",
       "      <td>133.76</td>\n",
       "      <td>3106.426507</td>\n",
       "      <td>0</td>\n",
       "      <td>2015</td>\n",
       "      <td>Albany</td>\n",
       "    </tr>\n",
       "    <tr>\n",
       "      <th>4</th>\n",
       "      <td>4</td>\n",
       "      <td>2015-11-29</td>\n",
       "      <td>1.28</td>\n",
       "      <td>51039.60</td>\n",
       "      <td>941.48</td>\n",
       "      <td>43838.39</td>\n",
       "      <td>75.78</td>\n",
       "      <td>6183.95</td>\n",
       "      <td>5986.26</td>\n",
       "      <td>197.69</td>\n",
       "      <td>3106.426507</td>\n",
       "      <td>0</td>\n",
       "      <td>2015</td>\n",
       "      <td>Albany</td>\n",
       "    </tr>\n",
       "  </tbody>\n",
       "</table>\n",
       "</div>"
      ],
      "text/plain": [
       "   Unnamed: 0        Date  AveragePrice  Total Volume     4046       4225  \\\n",
       "0           0  2015-12-27          1.33      64236.62  1036.74   54454.85   \n",
       "1           1  2015-12-20          1.35      54876.98   674.28   44638.81   \n",
       "2           2  2015-12-13          0.93     118220.22   794.70  109149.67   \n",
       "3           3  2015-12-06          1.08      78992.15  1132.00   71976.41   \n",
       "4           4  2015-11-29          1.28      51039.60   941.48   43838.39   \n",
       "\n",
       "     4770  Total Bags  Small Bags  Large Bags  XLarge Bags  type  year  region  \n",
       "0   48.16     8696.87     8603.62       93.25  3106.426507     0  2015  Albany  \n",
       "1   58.33     9505.56     9408.07       97.49  3106.426507     0  2015  Albany  \n",
       "2  130.50     8145.35     8042.21      103.14  3106.426507     0  2015  Albany  \n",
       "3   72.58     5811.16     5677.40      133.76  3106.426507     0  2015  Albany  \n",
       "4   75.78     6183.95     5986.26      197.69  3106.426507     0  2015  Albany  "
      ]
     },
     "execution_count": 27,
     "metadata": {},
     "output_type": "execute_result"
    }
   ],
   "source": [
    "df2=lab_enc.fit_transform(df['type'])\n",
    "df['type']=df2\n",
    "df.head()\n",
    "\n"
   ]
  },
  {
   "cell_type": "code",
   "execution_count": 28,
   "id": "2fcceb02",
   "metadata": {},
   "outputs": [
    {
     "data": {
      "text/html": [
       "<div>\n",
       "<style scoped>\n",
       "    .dataframe tbody tr th:only-of-type {\n",
       "        vertical-align: middle;\n",
       "    }\n",
       "\n",
       "    .dataframe tbody tr th {\n",
       "        vertical-align: top;\n",
       "    }\n",
       "\n",
       "    .dataframe thead th {\n",
       "        text-align: right;\n",
       "    }\n",
       "</style>\n",
       "<table border=\"1\" class=\"dataframe\">\n",
       "  <thead>\n",
       "    <tr style=\"text-align: right;\">\n",
       "      <th></th>\n",
       "      <th>Unnamed: 0</th>\n",
       "      <th>Date</th>\n",
       "      <th>AveragePrice</th>\n",
       "      <th>Total Volume</th>\n",
       "      <th>4046</th>\n",
       "      <th>4225</th>\n",
       "      <th>4770</th>\n",
       "      <th>Total Bags</th>\n",
       "      <th>Small Bags</th>\n",
       "      <th>Large Bags</th>\n",
       "      <th>XLarge Bags</th>\n",
       "      <th>type</th>\n",
       "      <th>year</th>\n",
       "      <th>region</th>\n",
       "    </tr>\n",
       "  </thead>\n",
       "  <tbody>\n",
       "    <tr>\n",
       "      <th>0</th>\n",
       "      <td>0</td>\n",
       "      <td>2015-12-27</td>\n",
       "      <td>1.33</td>\n",
       "      <td>64236.62</td>\n",
       "      <td>1036.74</td>\n",
       "      <td>54454.85</td>\n",
       "      <td>48.16</td>\n",
       "      <td>8696.87</td>\n",
       "      <td>8603.62</td>\n",
       "      <td>93.25</td>\n",
       "      <td>3106.426507</td>\n",
       "      <td>0</td>\n",
       "      <td>2015</td>\n",
       "      <td>0</td>\n",
       "    </tr>\n",
       "    <tr>\n",
       "      <th>1</th>\n",
       "      <td>1</td>\n",
       "      <td>2015-12-20</td>\n",
       "      <td>1.35</td>\n",
       "      <td>54876.98</td>\n",
       "      <td>674.28</td>\n",
       "      <td>44638.81</td>\n",
       "      <td>58.33</td>\n",
       "      <td>9505.56</td>\n",
       "      <td>9408.07</td>\n",
       "      <td>97.49</td>\n",
       "      <td>3106.426507</td>\n",
       "      <td>0</td>\n",
       "      <td>2015</td>\n",
       "      <td>0</td>\n",
       "    </tr>\n",
       "    <tr>\n",
       "      <th>2</th>\n",
       "      <td>2</td>\n",
       "      <td>2015-12-13</td>\n",
       "      <td>0.93</td>\n",
       "      <td>118220.22</td>\n",
       "      <td>794.70</td>\n",
       "      <td>109149.67</td>\n",
       "      <td>130.50</td>\n",
       "      <td>8145.35</td>\n",
       "      <td>8042.21</td>\n",
       "      <td>103.14</td>\n",
       "      <td>3106.426507</td>\n",
       "      <td>0</td>\n",
       "      <td>2015</td>\n",
       "      <td>0</td>\n",
       "    </tr>\n",
       "    <tr>\n",
       "      <th>3</th>\n",
       "      <td>3</td>\n",
       "      <td>2015-12-06</td>\n",
       "      <td>1.08</td>\n",
       "      <td>78992.15</td>\n",
       "      <td>1132.00</td>\n",
       "      <td>71976.41</td>\n",
       "      <td>72.58</td>\n",
       "      <td>5811.16</td>\n",
       "      <td>5677.40</td>\n",
       "      <td>133.76</td>\n",
       "      <td>3106.426507</td>\n",
       "      <td>0</td>\n",
       "      <td>2015</td>\n",
       "      <td>0</td>\n",
       "    </tr>\n",
       "    <tr>\n",
       "      <th>4</th>\n",
       "      <td>4</td>\n",
       "      <td>2015-11-29</td>\n",
       "      <td>1.28</td>\n",
       "      <td>51039.60</td>\n",
       "      <td>941.48</td>\n",
       "      <td>43838.39</td>\n",
       "      <td>75.78</td>\n",
       "      <td>6183.95</td>\n",
       "      <td>5986.26</td>\n",
       "      <td>197.69</td>\n",
       "      <td>3106.426507</td>\n",
       "      <td>0</td>\n",
       "      <td>2015</td>\n",
       "      <td>0</td>\n",
       "    </tr>\n",
       "  </tbody>\n",
       "</table>\n",
       "</div>"
      ],
      "text/plain": [
       "   Unnamed: 0        Date  AveragePrice  Total Volume     4046       4225  \\\n",
       "0           0  2015-12-27          1.33      64236.62  1036.74   54454.85   \n",
       "1           1  2015-12-20          1.35      54876.98   674.28   44638.81   \n",
       "2           2  2015-12-13          0.93     118220.22   794.70  109149.67   \n",
       "3           3  2015-12-06          1.08      78992.15  1132.00   71976.41   \n",
       "4           4  2015-11-29          1.28      51039.60   941.48   43838.39   \n",
       "\n",
       "     4770  Total Bags  Small Bags  Large Bags  XLarge Bags  type  year  region  \n",
       "0   48.16     8696.87     8603.62       93.25  3106.426507     0  2015       0  \n",
       "1   58.33     9505.56     9408.07       97.49  3106.426507     0  2015       0  \n",
       "2  130.50     8145.35     8042.21      103.14  3106.426507     0  2015       0  \n",
       "3   72.58     5811.16     5677.40      133.76  3106.426507     0  2015       0  \n",
       "4   75.78     6183.95     5986.26      197.69  3106.426507     0  2015       0  "
      ]
     },
     "execution_count": 28,
     "metadata": {},
     "output_type": "execute_result"
    }
   ],
   "source": [
    "df2=lab_enc.fit_transform(df['region'])\n",
    "df['region']=df2\n",
    "df.head()\n",
    "\n"
   ]
  },
  {
   "cell_type": "code",
   "execution_count": 29,
   "id": "84b0d0b5",
   "metadata": {},
   "outputs": [],
   "source": [
    "from sklearn.preprocessing import OrdinalEncoder"
   ]
  },
  {
   "cell_type": "code",
   "execution_count": 30,
   "id": "46b01e84",
   "metadata": {},
   "outputs": [],
   "source": [
    "enc=OrdinalEncoder()"
   ]
  },
  {
   "cell_type": "code",
   "execution_count": 31,
   "id": "c37d27b8",
   "metadata": {},
   "outputs": [
    {
     "data": {
      "text/html": [
       "<div>\n",
       "<style scoped>\n",
       "    .dataframe tbody tr th:only-of-type {\n",
       "        vertical-align: middle;\n",
       "    }\n",
       "\n",
       "    .dataframe tbody tr th {\n",
       "        vertical-align: top;\n",
       "    }\n",
       "\n",
       "    .dataframe thead th {\n",
       "        text-align: right;\n",
       "    }\n",
       "</style>\n",
       "<table border=\"1\" class=\"dataframe\">\n",
       "  <thead>\n",
       "    <tr style=\"text-align: right;\">\n",
       "      <th></th>\n",
       "      <th>Unnamed: 0</th>\n",
       "      <th>Date</th>\n",
       "      <th>AveragePrice</th>\n",
       "      <th>Total Volume</th>\n",
       "      <th>4046</th>\n",
       "      <th>4225</th>\n",
       "      <th>4770</th>\n",
       "      <th>Total Bags</th>\n",
       "      <th>Small Bags</th>\n",
       "      <th>Large Bags</th>\n",
       "      <th>XLarge Bags</th>\n",
       "      <th>type</th>\n",
       "      <th>year</th>\n",
       "      <th>region</th>\n",
       "    </tr>\n",
       "  </thead>\n",
       "  <tbody>\n",
       "    <tr>\n",
       "      <th>0</th>\n",
       "      <td>0</td>\n",
       "      <td>51.0</td>\n",
       "      <td>1.33</td>\n",
       "      <td>64236.62</td>\n",
       "      <td>1036.74</td>\n",
       "      <td>54454.85</td>\n",
       "      <td>48.160000</td>\n",
       "      <td>8696.87</td>\n",
       "      <td>8603.62</td>\n",
       "      <td>93.25</td>\n",
       "      <td>3106.426507</td>\n",
       "      <td>0</td>\n",
       "      <td>2015</td>\n",
       "      <td>0</td>\n",
       "    </tr>\n",
       "    <tr>\n",
       "      <th>1</th>\n",
       "      <td>1</td>\n",
       "      <td>50.0</td>\n",
       "      <td>1.35</td>\n",
       "      <td>54876.98</td>\n",
       "      <td>674.28</td>\n",
       "      <td>44638.81</td>\n",
       "      <td>58.330000</td>\n",
       "      <td>9505.56</td>\n",
       "      <td>9408.07</td>\n",
       "      <td>97.49</td>\n",
       "      <td>3106.426507</td>\n",
       "      <td>0</td>\n",
       "      <td>2015</td>\n",
       "      <td>0</td>\n",
       "    </tr>\n",
       "    <tr>\n",
       "      <th>2</th>\n",
       "      <td>2</td>\n",
       "      <td>49.0</td>\n",
       "      <td>0.93</td>\n",
       "      <td>118220.22</td>\n",
       "      <td>794.70</td>\n",
       "      <td>109149.67</td>\n",
       "      <td>130.500000</td>\n",
       "      <td>8145.35</td>\n",
       "      <td>8042.21</td>\n",
       "      <td>103.14</td>\n",
       "      <td>3106.426507</td>\n",
       "      <td>0</td>\n",
       "      <td>2015</td>\n",
       "      <td>0</td>\n",
       "    </tr>\n",
       "    <tr>\n",
       "      <th>3</th>\n",
       "      <td>3</td>\n",
       "      <td>48.0</td>\n",
       "      <td>1.08</td>\n",
       "      <td>78992.15</td>\n",
       "      <td>1132.00</td>\n",
       "      <td>71976.41</td>\n",
       "      <td>72.580000</td>\n",
       "      <td>5811.16</td>\n",
       "      <td>5677.40</td>\n",
       "      <td>133.76</td>\n",
       "      <td>3106.426507</td>\n",
       "      <td>0</td>\n",
       "      <td>2015</td>\n",
       "      <td>0</td>\n",
       "    </tr>\n",
       "    <tr>\n",
       "      <th>4</th>\n",
       "      <td>4</td>\n",
       "      <td>47.0</td>\n",
       "      <td>1.28</td>\n",
       "      <td>51039.60</td>\n",
       "      <td>941.48</td>\n",
       "      <td>43838.39</td>\n",
       "      <td>75.780000</td>\n",
       "      <td>6183.95</td>\n",
       "      <td>5986.26</td>\n",
       "      <td>197.69</td>\n",
       "      <td>3106.426507</td>\n",
       "      <td>0</td>\n",
       "      <td>2015</td>\n",
       "      <td>0</td>\n",
       "    </tr>\n",
       "    <tr>\n",
       "      <th>...</th>\n",
       "      <td>...</td>\n",
       "      <td>...</td>\n",
       "      <td>...</td>\n",
       "      <td>...</td>\n",
       "      <td>...</td>\n",
       "      <td>...</td>\n",
       "      <td>...</td>\n",
       "      <td>...</td>\n",
       "      <td>...</td>\n",
       "      <td>...</td>\n",
       "      <td>...</td>\n",
       "      <td>...</td>\n",
       "      <td>...</td>\n",
       "      <td>...</td>\n",
       "    </tr>\n",
       "    <tr>\n",
       "      <th>18244</th>\n",
       "      <td>7</td>\n",
       "      <td>161.0</td>\n",
       "      <td>1.63</td>\n",
       "      <td>17074.83</td>\n",
       "      <td>2046.96</td>\n",
       "      <td>1529.20</td>\n",
       "      <td>22839.735993</td>\n",
       "      <td>13498.67</td>\n",
       "      <td>13066.82</td>\n",
       "      <td>431.85</td>\n",
       "      <td>3106.426507</td>\n",
       "      <td>1</td>\n",
       "      <td>2018</td>\n",
       "      <td>53</td>\n",
       "    </tr>\n",
       "    <tr>\n",
       "      <th>18245</th>\n",
       "      <td>8</td>\n",
       "      <td>160.0</td>\n",
       "      <td>1.71</td>\n",
       "      <td>13888.04</td>\n",
       "      <td>1191.70</td>\n",
       "      <td>3431.50</td>\n",
       "      <td>22839.735993</td>\n",
       "      <td>9264.84</td>\n",
       "      <td>8940.04</td>\n",
       "      <td>324.80</td>\n",
       "      <td>3106.426507</td>\n",
       "      <td>1</td>\n",
       "      <td>2018</td>\n",
       "      <td>53</td>\n",
       "    </tr>\n",
       "    <tr>\n",
       "      <th>18246</th>\n",
       "      <td>9</td>\n",
       "      <td>159.0</td>\n",
       "      <td>1.87</td>\n",
       "      <td>13766.76</td>\n",
       "      <td>1191.92</td>\n",
       "      <td>2452.79</td>\n",
       "      <td>727.940000</td>\n",
       "      <td>9394.11</td>\n",
       "      <td>9351.80</td>\n",
       "      <td>42.31</td>\n",
       "      <td>3106.426507</td>\n",
       "      <td>1</td>\n",
       "      <td>2018</td>\n",
       "      <td>53</td>\n",
       "    </tr>\n",
       "    <tr>\n",
       "      <th>18247</th>\n",
       "      <td>10</td>\n",
       "      <td>158.0</td>\n",
       "      <td>1.93</td>\n",
       "      <td>16205.22</td>\n",
       "      <td>1527.63</td>\n",
       "      <td>2981.04</td>\n",
       "      <td>727.010000</td>\n",
       "      <td>10969.54</td>\n",
       "      <td>10919.54</td>\n",
       "      <td>50.00</td>\n",
       "      <td>3106.426507</td>\n",
       "      <td>1</td>\n",
       "      <td>2018</td>\n",
       "      <td>53</td>\n",
       "    </tr>\n",
       "    <tr>\n",
       "      <th>18248</th>\n",
       "      <td>11</td>\n",
       "      <td>157.0</td>\n",
       "      <td>1.62</td>\n",
       "      <td>17489.58</td>\n",
       "      <td>2894.77</td>\n",
       "      <td>2356.13</td>\n",
       "      <td>224.530000</td>\n",
       "      <td>12014.15</td>\n",
       "      <td>11988.14</td>\n",
       "      <td>26.01</td>\n",
       "      <td>3106.426507</td>\n",
       "      <td>1</td>\n",
       "      <td>2018</td>\n",
       "      <td>53</td>\n",
       "    </tr>\n",
       "  </tbody>\n",
       "</table>\n",
       "<p>18249 rows × 14 columns</p>\n",
       "</div>"
      ],
      "text/plain": [
       "       Unnamed: 0   Date  AveragePrice  Total Volume     4046       4225  \\\n",
       "0               0   51.0          1.33      64236.62  1036.74   54454.85   \n",
       "1               1   50.0          1.35      54876.98   674.28   44638.81   \n",
       "2               2   49.0          0.93     118220.22   794.70  109149.67   \n",
       "3               3   48.0          1.08      78992.15  1132.00   71976.41   \n",
       "4               4   47.0          1.28      51039.60   941.48   43838.39   \n",
       "...           ...    ...           ...           ...      ...        ...   \n",
       "18244           7  161.0          1.63      17074.83  2046.96    1529.20   \n",
       "18245           8  160.0          1.71      13888.04  1191.70    3431.50   \n",
       "18246           9  159.0          1.87      13766.76  1191.92    2452.79   \n",
       "18247          10  158.0          1.93      16205.22  1527.63    2981.04   \n",
       "18248          11  157.0          1.62      17489.58  2894.77    2356.13   \n",
       "\n",
       "               4770  Total Bags  Small Bags  Large Bags  XLarge Bags  type  \\\n",
       "0         48.160000     8696.87     8603.62       93.25  3106.426507     0   \n",
       "1         58.330000     9505.56     9408.07       97.49  3106.426507     0   \n",
       "2        130.500000     8145.35     8042.21      103.14  3106.426507     0   \n",
       "3         72.580000     5811.16     5677.40      133.76  3106.426507     0   \n",
       "4         75.780000     6183.95     5986.26      197.69  3106.426507     0   \n",
       "...             ...         ...         ...         ...          ...   ...   \n",
       "18244  22839.735993    13498.67    13066.82      431.85  3106.426507     1   \n",
       "18245  22839.735993     9264.84     8940.04      324.80  3106.426507     1   \n",
       "18246    727.940000     9394.11     9351.80       42.31  3106.426507     1   \n",
       "18247    727.010000    10969.54    10919.54       50.00  3106.426507     1   \n",
       "18248    224.530000    12014.15    11988.14       26.01  3106.426507     1   \n",
       "\n",
       "       year  region  \n",
       "0      2015       0  \n",
       "1      2015       0  \n",
       "2      2015       0  \n",
       "3      2015       0  \n",
       "4      2015       0  \n",
       "...     ...     ...  \n",
       "18244  2018      53  \n",
       "18245  2018      53  \n",
       "18246  2018      53  \n",
       "18247  2018      53  \n",
       "18248  2018      53  \n",
       "\n",
       "[18249 rows x 14 columns]"
      ]
     },
     "execution_count": 31,
     "metadata": {},
     "output_type": "execute_result"
    }
   ],
   "source": [
    "for i in df.columns:\n",
    "    if df[i].dtypes==\"object\":\n",
    "        df[i]=enc.fit_transform(df[i].values.reshape(-1,1))\n",
    "df"
   ]
  },
  {
   "cell_type": "code",
   "execution_count": 32,
   "id": "1436ff2a",
   "metadata": {},
   "outputs": [
    {
     "data": {
      "text/plain": [
       "Unnamed: 0        int64\n",
       "Date            float64\n",
       "AveragePrice    float64\n",
       "Total Volume    float64\n",
       "4046            float64\n",
       "4225            float64\n",
       "4770            float64\n",
       "Total Bags      float64\n",
       "Small Bags      float64\n",
       "Large Bags      float64\n",
       "XLarge Bags     float64\n",
       "type              int32\n",
       "year              int64\n",
       "region            int32\n",
       "dtype: object"
      ]
     },
     "execution_count": 32,
     "metadata": {},
     "output_type": "execute_result"
    }
   ],
   "source": [
    "df.dtypes"
   ]
  },
  {
   "cell_type": "code",
   "execution_count": 33,
   "id": "b2f32ff6",
   "metadata": {},
   "outputs": [
    {
     "data": {
      "text/plain": [
       "Unnamed: 0       0.108334\n",
       "Date             0.000117\n",
       "AveragePrice     0.580303\n",
       "Total Volume     9.007687\n",
       "4046             8.648526\n",
       "4225             8.942760\n",
       "4770            10.244212\n",
       "Total Bags       9.756195\n",
       "Small Bags       9.541906\n",
       "Large Bags       9.818731\n",
       "XLarge Bags     13.483327\n",
       "type             0.000329\n",
       "year             0.215339\n",
       "region           0.000030\n",
       "dtype: float64"
      ]
     },
     "execution_count": 33,
     "metadata": {},
     "output_type": "execute_result"
    }
   ],
   "source": [
    "# lets check the skewness\n",
    "df.skew()"
   ]
  },
  {
   "cell_type": "code",
   "execution_count": 34,
   "id": "feefd4fe",
   "metadata": {},
   "outputs": [],
   "source": [
    "# lets check the skewness usng boxplot\n",
    "# lets visualize the dataset\n",
    "# for that lets import necessary libraries\n",
    "import matplotlib.pyplot as plt\n",
    "import seaborn as sns\n",
    "import warnings\n",
    "warnings.filterwarnings('ignore')"
   ]
  },
  {
   "cell_type": "code",
   "execution_count": 35,
   "id": "17aad1dc",
   "metadata": {},
   "outputs": [
    {
     "data": {
      "image/png": "[encoded data removed]",
      "text/plain": [
       "<Figure size 1440x1800 with 14 Axes>"
      ]
     },
     "metadata": {},
     "output_type": "display_data"
    }
   ],
   "source": [
    "plt.figure(figsize=(20,25),facecolor='yellow')\n",
    "plotnumber=1\n",
    "for column in df:\n",
    "    if plotnumber<=14:\n",
    "        ax=plt.subplot(7,2,plotnumber)\n",
    "        sns.distplot(df[column])\n",
    "        plt.xlabel(column,fontsize=20)\n",
    "    plotnumber+=1\n",
    "plt.show()"
   ]
  },
  {
   "cell_type": "code",
   "execution_count": 36,
   "id": "ad5c223c",
   "metadata": {},
   "outputs": [
    {
     "data": {
      "image/png": "[encoded data removed]",
      "text/plain": [
       "<Figure size 1440x1800 with 14 Axes>"
      ]
     },
     "metadata": {},
     "output_type": "display_data"
    }
   ],
   "source": [
    "plt.figure(figsize=(20,25),facecolor='yellow')\n",
    "plotnumber=1\n",
    "for column in df:\n",
    "    if plotnumber<=14:\n",
    "        ax=plt.subplot(7,2,plotnumber)\n",
    "        sns.boxplot(df[column])\n",
    "        plt.xlabel(column,fontsize=20)\n",
    "    plotnumber+=1\n",
    "plt.show()"
   ]
  },
  {
   "cell_type": "code",
   "execution_count": 37,
   "id": "1e87cc4c",
   "metadata": {},
   "outputs": [],
   "source": [
    "df['Total Volume']=np.log(df['Total Volume'])\n",
    "df['4046']=np.log(df['4046'])\n",
    "df['4225']=np.log(df['4225'])\n",
    "df['4770']=np.log(df['4770'])\n",
    "df['Total Bags']=np.log(df['Total Bags'])\n",
    "df['Small Bags']=np.log(df['Small Bags'])\n",
    "df['Large Bags']=np.log(df['Large Bags'])\n",
    "df['XLarge Bags']=np.log(df['XLarge Bags'])\n",
    "df['year']=np.log(df['year'])\n",
    "df['AveragePrice']=np.log(df['AveragePrice'])"
   ]
  },
  {
   "cell_type": "code",
   "execution_count": 38,
   "id": "19f0d06a",
   "metadata": {},
   "outputs": [],
   "source": [
    "# now lets check the skewness"
   ]
  },
  {
   "cell_type": "code",
   "execution_count": 39,
   "id": "df28094b",
   "metadata": {},
   "outputs": [
    {
     "data": {
      "text/plain": [
       "Unnamed: 0      0.108334\n",
       "Date            0.000117\n",
       "AveragePrice   -0.184321\n",
       "Total Volume    0.087954\n",
       "4046           -0.249231\n",
       "4225           -0.426674\n",
       "4770           -0.751002\n",
       "Total Bags     -0.164046\n",
       "Small Bags     -0.320830\n",
       "Large Bags     -0.649372\n",
       "XLarge Bags    -1.813913\n",
       "type            0.000329\n",
       "year            0.214695\n",
       "region          0.000030\n",
       "dtype: float64"
      ]
     },
     "execution_count": 39,
     "metadata": {},
     "output_type": "execute_result"
    }
   ],
   "source": [
    "df.skew()"
   ]
  },
  {
   "cell_type": "code",
   "execution_count": 40,
   "id": "aa3a7a5d",
   "metadata": {},
   "outputs": [],
   "source": [
    "# now there is no skewness in the dataset lets move further"
   ]
  },
  {
   "cell_type": "code",
   "execution_count": 41,
   "id": "5a8b32cb",
   "metadata": {},
   "outputs": [
    {
     "data": {
      "text/plain": [
       "[]"
      ]
     },
     "execution_count": 41,
     "metadata": {},
     "output_type": "execute_result"
    },
    {
     "data": {
      "image/png": "[encoded data removed]",
      "text/plain": [
       "<Figure size 1800x1440 with 2 Axes>"
      ]
     },
     "metadata": {
      "needs_background": "light"
     },
     "output_type": "display_data"
    }
   ],
   "source": [
    "# lets check the correlation \n",
    "#checking the correlation\n",
    "df_corr=df.corr()\n",
    "plt.figure(figsize=(25,20))\n",
    "sns.heatmap(df_corr,annot=True)\n",
    "plt.plot()"
   ]
  },
  {
   "cell_type": "code",
   "execution_count": 42,
   "id": "9d0de846",
   "metadata": {},
   "outputs": [],
   "source": [
    "# lets check the correlation between date and year\n",
    "# also between total bags and total volume\n",
    "#  also between total bags and small bags"
   ]
  },
  {
   "cell_type": "code",
   "execution_count": 43,
   "id": "c0f839dd",
   "metadata": {},
   "outputs": [],
   "source": [
    "# lets remove either date or year\n",
    "# and we will also remove column named unnamed"
   ]
  },
  {
   "cell_type": "code",
   "execution_count": 44,
   "id": "1eaf86ba",
   "metadata": {},
   "outputs": [],
   "source": [
    "df=df.drop(['Unnamed: 0','Date'],axis=1)"
   ]
  },
  {
   "cell_type": "code",
   "execution_count": 45,
   "id": "60e6c3dc",
   "metadata": {},
   "outputs": [],
   "source": [
    "# now we will split the data into train and test\n",
    "# for that we will import necessary libraries"
   ]
  },
  {
   "cell_type": "code",
   "execution_count": 46,
   "id": "ec1bb189",
   "metadata": {},
   "outputs": [],
   "source": [
    "#seperating the dataset into train and test\n",
    "# for thaat import necessary libraries\n",
    "from sklearn.linear_model import LinearRegression\n",
    "from sklearn.preprocessing import StandardScaler\n",
    "from sklearn.model_selection import train_test_split\n",
    "from sklearn.metrics import accuracy_score,confusion_matrix,roc_curve,roc_auc_score,r2_score\n",
    "import warnings\n",
    "warnings.filterwarnings('ignore')"
   ]
  },
  {
   "cell_type": "code",
   "execution_count": 47,
   "id": "5b252d61",
   "metadata": {},
   "outputs": [],
   "source": [
    "x=df.drop(\"AveragePrice\",axis=1)\n",
    "y=df[\"AveragePrice\"]"
   ]
  },
  {
   "cell_type": "code",
   "execution_count": 48,
   "id": "ed2543d0",
   "metadata": {},
   "outputs": [],
   "source": [
    "lr=LinearRegression()"
   ]
  },
  {
   "cell_type": "code",
   "execution_count": 49,
   "id": "78f28e4f",
   "metadata": {},
   "outputs": [
    {
     "name": "stdout",
     "output_type": "stream",
     "text": [
      "at random state0,the training score is 0.510343402956692\n",
      "at random state0,the testing score is0.5092878904325366\n",
      "\n",
      "\n",
      "at random state1,the training score is 0.508353145595143\n",
      "at random state1,the testing score is0.5164789950975368\n",
      "\n",
      "\n",
      "at random state2,the training score is 0.5142065329290683\n",
      "at random state2,the testing score is0.4985146502594586\n",
      "\n",
      "\n",
      "at random state3,the training score is 0.5073576746445991\n",
      "at random state3,the testing score is0.5200798477481727\n",
      "\n",
      "\n",
      "at random state4,the training score is 0.5139110903019022\n",
      "at random state4,the testing score is0.49991752558214864\n",
      "\n",
      "\n",
      "at random state5,the training score is 0.5111525208067795\n",
      "at random state5,the testing score is0.507304295098262\n",
      "\n",
      "\n",
      "at random state6,the training score is 0.5112925413291699\n",
      "at random state6,the testing score is0.5075596470019272\n",
      "\n",
      "\n",
      "at random state7,the training score is 0.5115102437637272\n",
      "at random state7,the testing score is0.5067250095354945\n",
      "\n",
      "\n",
      "at random state8,the training score is 0.510456125416795\n",
      "at random state8,the testing score is0.5103290554554294\n",
      "\n",
      "\n",
      "at random state9,the training score is 0.5129162518330463\n",
      "at random state9,the testing score is0.5024010420556113\n",
      "\n",
      "\n",
      "at random state10,the training score is 0.5090053467326197\n",
      "at random state10,the testing score is0.5146326357804855\n",
      "\n",
      "\n",
      "at random state11,the training score is 0.5124813540767357\n",
      "at random state11,the testing score is0.5040410288198716\n",
      "\n",
      "\n",
      "at random state12,the training score is 0.5079056743206014\n",
      "at random state12,the testing score is0.5174895789706535\n",
      "\n",
      "\n",
      "at random state13,the training score is 0.5134000450305045\n",
      "at random state13,the testing score is0.5014746020527341\n",
      "\n",
      "\n",
      "at random state14,the training score is 0.5104498645323482\n",
      "at random state14,the testing score is0.5103236924538657\n",
      "\n",
      "\n",
      "at random state15,the training score is 0.5141281229537193\n",
      "at random state15,the testing score is0.4987334254195862\n",
      "\n",
      "\n",
      "at random state16,the training score is 0.5138887748806504\n",
      "at random state16,the testing score is0.4994158981141906\n",
      "\n",
      "\n",
      "at random state17,the training score is 0.5126467440002577\n",
      "at random state17,the testing score is0.5038098109197127\n",
      "\n",
      "\n",
      "at random state18,the training score is 0.510474262064924\n",
      "at random state18,the testing score is0.5102774711707253\n",
      "\n",
      "\n",
      "at random state19,the training score is 0.5204293132338584\n",
      "at random state19,the testing score is0.4784245045168838\n",
      "\n",
      "\n",
      "at random state20,the training score is 0.50615277433651\n",
      "at random state20,the testing score is0.5226488135187585\n",
      "\n",
      "\n",
      "at random state21,the training score is 0.5134032891981957\n",
      "at random state21,the testing score is0.5014695285462835\n",
      "\n",
      "\n",
      "at random state22,the training score is 0.5101654913567766\n",
      "at random state22,the testing score is0.5109321235883495\n",
      "\n",
      "\n",
      "at random state23,the training score is 0.512461519396982\n",
      "at random state23,the testing score is0.5046302163116625\n",
      "\n",
      "\n",
      "at random state24,the training score is 0.5109725556897331\n",
      "at random state24,the testing score is0.5088060537327028\n",
      "\n",
      "\n",
      "at random state25,the training score is 0.5083870195826234\n",
      "at random state25,the testing score is0.5163360006685214\n",
      "\n",
      "\n",
      "at random state26,the training score is 0.5107945667167674\n",
      "at random state26,the testing score is0.509058527676693\n",
      "\n",
      "\n",
      "at random state27,the training score is 0.5090861808088905\n",
      "at random state27,the testing score is0.5141986968657695\n",
      "\n",
      "\n",
      "at random state28,the training score is 0.5049301175988768\n",
      "at random state28,the testing score is0.5261022220947926\n",
      "\n",
      "\n",
      "at random state29,the training score is 0.5075065608834335\n",
      "at random state29,the testing score is0.5187302881761153\n",
      "\n",
      "\n",
      "at random state30,the training score is 0.511017252781599\n",
      "at random state30,the testing score is0.5078130205695944\n",
      "\n",
      "\n",
      "at random state31,the training score is 0.5133754848570323\n",
      "at random state31,the testing score is0.5006894261329278\n",
      "\n",
      "\n",
      "at random state32,the training score is 0.5176261601993066\n",
      "at random state32,the testing score is0.48603289650076953\n",
      "\n",
      "\n",
      "at random state33,the training score is 0.5064712287372413\n",
      "at random state33,the testing score is0.5215094913068474\n",
      "\n",
      "\n",
      "at random state34,the training score is 0.5100123770568412\n",
      "at random state34,the testing score is0.5110430679661194\n",
      "\n",
      "\n",
      "at random state35,the training score is 0.5111683167639065\n",
      "at random state35,the testing score is0.508094826271768\n",
      "\n",
      "\n",
      "at random state36,the training score is 0.5170973464937155\n",
      "at random state36,the testing score is0.490364281321658\n",
      "\n",
      "\n",
      "at random state37,the training score is 0.5074603203286245\n",
      "at random state37,the testing score is0.5186868272503966\n",
      "\n",
      "\n",
      "at random state38,the training score is 0.5114826942287134\n",
      "at random state38,the testing score is0.5066466670185332\n",
      "\n",
      "\n",
      "at random state39,the training score is 0.5104086040171067\n",
      "at random state39,the testing score is0.5098289119451738\n",
      "\n",
      "\n",
      "at random state40,the training score is 0.5148387152174891\n",
      "at random state40,the testing score is0.49579942715606895\n",
      "\n",
      "\n",
      "at random state41,the training score is 0.5117399905701767\n",
      "at random state41,the testing score is0.5063352824491629\n",
      "\n",
      "\n",
      "at random state42,the training score is 0.5152304593377315\n",
      "at random state42,the testing score is0.4954209306718875\n",
      "\n",
      "\n",
      "at random state43,the training score is 0.5111230871345543\n",
      "at random state43,the testing score is0.5072637330237874\n",
      "\n",
      "\n",
      "at random state44,the training score is 0.5152635914310724\n",
      "at random state44,the testing score is0.4958761449428474\n",
      "\n",
      "\n",
      "at random state45,the training score is 0.5156880219606181\n",
      "at random state45,the testing score is0.494601087048843\n",
      "\n",
      "\n",
      "at random state46,the training score is 0.514764333624153\n",
      "at random state46,the testing score is0.49725443519305035\n",
      "\n",
      "\n",
      "at random state47,the training score is 0.513448828760517\n",
      "at random state47,the testing score is0.501333111110454\n",
      "\n",
      "\n",
      "at random state48,the training score is 0.505617513483573\n",
      "at random state48,the testing score is0.524734077840245\n",
      "\n",
      "\n",
      "at random state49,the training score is 0.510638463615206\n",
      "at random state49,the testing score is0.5097743069920817\n",
      "\n",
      "\n",
      "at random state50,the training score is 0.5057239694389447\n",
      "at random state50,the testing score is0.52415536222242\n",
      "\n",
      "\n",
      "at random state51,the training score is 0.5115586126509655\n",
      "at random state51,the testing score is0.5066905100724398\n",
      "\n",
      "\n",
      "at random state52,the training score is 0.5081227028855911\n",
      "at random state52,the testing score is0.5174215843791152\n",
      "\n",
      "\n",
      "at random state53,the training score is 0.5117478715823126\n",
      "at random state53,the testing score is0.5062892208127803\n",
      "\n",
      "\n",
      "at random state54,the training score is 0.5169716918261493\n",
      "at random state54,the testing score is0.48931847472597034\n",
      "\n",
      "\n",
      "at random state55,the training score is 0.5101719998718992\n",
      "at random state55,the testing score is0.51027666255962\n",
      "\n",
      "\n",
      "at random state56,the training score is 0.5138719465616335\n",
      "at random state56,the testing score is0.4996174220986418\n",
      "\n",
      "\n",
      "at random state57,the training score is 0.5107752342511405\n",
      "at random state57,the testing score is0.5088995474632088\n",
      "\n",
      "\n",
      "at random state58,the training score is 0.5111283477171948\n",
      "at random state58,the testing score is0.5083076776741919\n",
      "\n",
      "\n",
      "at random state59,the training score is 0.5145003219754707\n",
      "at random state59,the testing score is0.49702894579713275\n",
      "\n",
      "\n",
      "at random state60,the training score is 0.5119285069779126\n",
      "at random state60,the testing score is0.5053044953645645\n",
      "\n",
      "\n",
      "at random state61,the training score is 0.5150771492789585\n",
      "at random state61,the testing score is0.49491777101522627\n",
      "\n",
      "\n",
      "at random state62,the training score is 0.5102205675736706\n",
      "at random state62,the testing score is0.5107227109554549\n",
      "\n",
      "\n",
      "at random state63,the training score is 0.5088431881819324\n",
      "at random state63,the testing score is0.5148432938488152\n",
      "\n",
      "\n",
      "at random state64,the training score is 0.5147648810930232\n",
      "at random state64,the testing score is0.4961399976571339\n",
      "\n",
      "\n",
      "at random state65,the training score is 0.509543940287027\n",
      "at random state65,the testing score is0.5130601725830756\n",
      "\n",
      "\n",
      "at random state66,the training score is 0.5065815158563476\n",
      "at random state66,the testing score is0.5222605455756804\n",
      "\n",
      "\n",
      "at random state67,the training score is 0.5109907541169658\n",
      "at random state67,the testing score is0.5085005480177036\n",
      "\n",
      "\n",
      "at random state68,the training score is 0.5107082780637022\n",
      "at random state68,the testing score is0.5087165254434343\n",
      "\n",
      "\n",
      "at random state69,the training score is 0.5065634709536933\n",
      "at random state69,the testing score is0.5213765448402368\n",
      "\n",
      "\n",
      "at random state70,the training score is 0.5088755139594284\n",
      "at random state70,the testing score is0.5147006779279761\n",
      "\n",
      "\n",
      "at random state71,the training score is 0.5109413254468564\n",
      "at random state71,the testing score is0.5079688925068955\n",
      "\n",
      "\n",
      "at random state72,the training score is 0.5133977180842619\n",
      "at random state72,the testing score is0.5013631529029037\n",
      "\n",
      "\n",
      "at random state73,the training score is 0.5100546525698334\n",
      "at random state73,the testing score is0.5110684679537315\n",
      "\n",
      "\n",
      "at random state74,the training score is 0.5106789063662455\n",
      "at random state74,the testing score is0.509553763385735\n",
      "\n",
      "\n",
      "at random state75,the training score is 0.5134165856533854\n",
      "at random state75,the testing score is0.501529180012974\n",
      "\n",
      "\n",
      "at random state76,the training score is 0.5095898207582993\n",
      "at random state76,the testing score is0.512942338535695\n",
      "\n",
      "\n",
      "at random state77,the training score is 0.5062267593826086\n",
      "at random state77,the testing score is0.5223186147912988\n",
      "\n",
      "\n",
      "at random state78,the training score is 0.5074486477323835\n",
      "at random state78,the testing score is0.518402338936806\n",
      "\n",
      "\n",
      "at random state79,the training score is 0.5092450363736307\n",
      "at random state79,the testing score is0.5127344747312237\n",
      "\n",
      "\n",
      "at random state80,the training score is 0.5138109259124747\n",
      "at random state80,the testing score is0.5001786238862087\n",
      "\n",
      "\n",
      "at random state81,the training score is 0.5117969934306603\n",
      "at random state81,the testing score is0.5060788382378278\n",
      "\n",
      "\n",
      "at random state82,the training score is 0.5099247109423486\n",
      "at random state82,the testing score is0.5119844923420087\n",
      "\n",
      "\n",
      "at random state83,the training score is 0.5136497946498852\n",
      "at random state83,the testing score is0.5002065024309403\n",
      "\n",
      "\n",
      "at random state84,the training score is 0.5099844735313139\n",
      "at random state84,the testing score is0.5114322944125369\n",
      "\n",
      "\n",
      "at random state85,the training score is 0.5075901999531718\n",
      "at random state85,the testing score is0.5180665605789485\n",
      "\n",
      "\n",
      "at random state86,the training score is 0.5103425719105219\n",
      "at random state86,the testing score is0.509795849461332\n",
      "\n",
      "\n",
      "at random state87,the training score is 0.5079530396204419\n",
      "at random state87,the testing score is0.5177603960571034\n",
      "\n",
      "\n",
      "at random state88,the training score is 0.5050847364453057\n",
      "at random state88,the testing score is0.52535075951666\n",
      "\n",
      "\n",
      "at random state89,the training score is 0.5064857026386316\n",
      "at random state89,the testing score is0.5221314367749452\n",
      "\n",
      "\n",
      "at random state90,the training score is 0.5160017585665511\n",
      "at random state90,the testing score is0.4932733368483101\n",
      "\n",
      "\n",
      "at random state91,the training score is 0.5142450627593349\n",
      "at random state91,the testing score is0.49887338928561586\n",
      "\n",
      "\n",
      "at random state92,the training score is 0.511677910237387\n",
      "at random state92,the testing score is0.5064911289169033\n",
      "\n",
      "\n",
      "at random state93,the training score is 0.5108804512549069\n",
      "at random state93,the testing score is0.5084450745314069\n",
      "\n",
      "\n",
      "at random state94,the training score is 0.5054983091016259\n",
      "at random state94,the testing score is0.5245538380913883\n",
      "\n",
      "\n",
      "at random state95,the training score is 0.5114334934635083\n",
      "at random state95,the testing score is0.5069233923438969\n",
      "\n",
      "\n",
      "at random state96,the training score is 0.5060048915754111\n",
      "at random state96,the testing score is0.5230632912490989\n",
      "\n",
      "\n",
      "at random state97,the training score is 0.5116560281841019\n",
      "at random state97,the testing score is0.5065510525165884\n",
      "\n",
      "\n",
      "at random state98,the training score is 0.5165682164560673\n",
      "at random state98,the testing score is0.49170930838584015\n",
      "\n",
      "\n",
      "at random state99,the training score is 0.5101810034631226\n",
      "at random state99,the testing score is0.511139355653022\n",
      "\n",
      "\n"
     ]
    }
   ],
   "source": [
    "for i in range(0,100):\n",
    "    x_train,x_test,y_train,y_test=train_test_split(x,y,test_size=0.25,random_state=i)\n",
    "    lr.fit(x_train,y_train)\n",
    "    pred_train=lr.predict(x_train)\n",
    "    pred_test=lr.predict(x_test)\n",
    "    print(f\"at random state{i},the training score is {r2_score(y_train,pred_train)}\")\n",
    "    print(f\"at random state{i},the testing score is{r2_score(y_test,pred_test)}\")\n",
    "    print(\"\\n\")"
   ]
  },
  {
   "cell_type": "code",
   "execution_count": 50,
   "id": "53b1e6fd",
   "metadata": {},
   "outputs": [],
   "source": [
    "from sklearn.neighbors import KNeighborsRegressor\n",
    "from sklearn.tree import DecisionTreeRegressor"
   ]
  },
  {
   "cell_type": "code",
   "execution_count": 51,
   "id": "1eae8e3e",
   "metadata": {},
   "outputs": [],
   "source": [
    "from sklearn.model_selection import GridSearchCV,cross_val_score\n",
    "from sklearn.linear_model import Lasso"
   ]
  },
  {
   "cell_type": "code",
   "execution_count": 52,
   "id": "892ea8ba",
   "metadata": {},
   "outputs": [
    {
     "name": "stdout",
     "output_type": "stream",
     "text": [
      "{'alpha': 0.0001, 'random_state': 0}\n"
     ]
    }
   ],
   "source": [
    "parameters={'alpha':[.0001,.001,.01,.1,1],\n",
    "           'random_state':list(range(0,10))}\n",
    "ls=Lasso()\n",
    "clf=GridSearchCV(ls,parameters)\n",
    "clf.fit(x_train,y_train)\n",
    "print(clf.best_params_)"
   ]
  },
  {
   "cell_type": "code",
   "execution_count": 53,
   "id": "dab3c30c",
   "metadata": {},
   "outputs": [
    {
     "data": {
      "text/plain": [
       "48.74669444345865"
      ]
     },
     "execution_count": 53,
     "metadata": {},
     "output_type": "execute_result"
    }
   ],
   "source": [
    "#final model training\n",
    "ls=Lasso(alpha=.0001,random_state=0)\n",
    "ls.fit(x_train,y_train)\n",
    "ls_score_training=ls.score(x_train,y_train)\n",
    "pred_ls=ls.predict(x_test)\n",
    "ls_score_training*100"
   ]
  },
  {
   "cell_type": "code",
   "execution_count": 54,
   "id": "ac0ca3e2",
   "metadata": {},
   "outputs": [
    {
     "data": {
      "text/plain": [
       "0.4824700188927472"
      ]
     },
     "execution_count": 54,
     "metadata": {},
     "output_type": "execute_result"
    }
   ],
   "source": [
    "pred_ls=ls.predict(x_test)\n",
    "lss=r2_score(y_test,pred_ls)\n",
    "lss"
   ]
  },
  {
   "cell_type": "code",
   "execution_count": 55,
   "id": "a1df3bd1",
   "metadata": {},
   "outputs": [
    {
     "data": {
      "text/plain": [
       "{'n_neighbors': 4}"
      ]
     },
     "execution_count": 55,
     "metadata": {},
     "output_type": "execute_result"
    }
   ],
   "source": [
    "knn=KNeighborsRegressor()\n",
    "parameters={'n_neighbors':range(1,30)}\n",
    "clf=GridSearchCV(knn,parameters)\n",
    "clf.fit(x_train,y_train)\n",
    "clf.best_params_"
   ]
  },
  {
   "cell_type": "code",
   "execution_count": 56,
   "id": "5af3a13b",
   "metadata": {},
   "outputs": [
    {
     "name": "stdout",
     "output_type": "stream",
     "text": [
      "r2_score: 0.8073684591840787\n"
     ]
    }
   ],
   "source": [
    "knn=KNeighborsRegressor(n_neighbors=4)\n",
    "knn.fit(x_train,y_train)\n",
    "pred=knn.predict(x_test)\n",
    "print(\"r2_score:\",r2_score(y_test,pred))"
   ]
  },
  {
   "cell_type": "code",
   "execution_count": 57,
   "id": "7d1c7239",
   "metadata": {},
   "outputs": [
    {
     "data": {
      "text/plain": [
       "Text(0, 0.5, 'predicted value')"
      ]
     },
     "execution_count": 57,
     "metadata": {},
     "output_type": "execute_result"
    },
    {
     "data": {
      "image/png": "[encoded data removed]",
      "text/plain": [
       "<Figure size 432x288 with 1 Axes>"
      ]
     },
     "metadata": {
      "needs_background": "light"
     },
     "output_type": "display_data"
    }
   ],
   "source": [
    "plt.scatter(x=y_test,y=pred)\n",
    "plt.xlabel('y_test')\n",
    "plt.ylabel('predicted value')"
   ]
  },
  {
   "cell_type": "code",
   "execution_count": 58,
   "id": "982d51d8",
   "metadata": {},
   "outputs": [],
   "source": [
    "# according to me knn is good for this type of dataset"
   ]
  },
  {
   "cell_type": "code",
   "execution_count": 59,
   "id": "8a1937bd",
   "metadata": {},
   "outputs": [
    {
     "data": {
      "text/html": [
       "<div>\n",
       "<style scoped>\n",
       "    .dataframe tbody tr th:only-of-type {\n",
       "        vertical-align: middle;\n",
       "    }\n",
       "\n",
       "    .dataframe tbody tr th {\n",
       "        vertical-align: top;\n",
       "    }\n",
       "\n",
       "    .dataframe thead th {\n",
       "        text-align: right;\n",
       "    }\n",
       "</style>\n",
       "<table border=\"1\" class=\"dataframe\">\n",
       "  <thead>\n",
       "    <tr style=\"text-align: right;\">\n",
       "      <th></th>\n",
       "      <th>AveragePrice</th>\n",
       "      <th>Total Volume</th>\n",
       "      <th>4046</th>\n",
       "      <th>4225</th>\n",
       "      <th>4770</th>\n",
       "      <th>Total Bags</th>\n",
       "      <th>Small Bags</th>\n",
       "      <th>Large Bags</th>\n",
       "      <th>XLarge Bags</th>\n",
       "      <th>type</th>\n",
       "      <th>year</th>\n",
       "      <th>region</th>\n",
       "    </tr>\n",
       "  </thead>\n",
       "  <tbody>\n",
       "    <tr>\n",
       "      <th>0</th>\n",
       "      <td>0.285179</td>\n",
       "      <td>11.070329</td>\n",
       "      <td>6.943836</td>\n",
       "      <td>10.905127</td>\n",
       "      <td>3.874529</td>\n",
       "      <td>9.070718</td>\n",
       "      <td>9.059938</td>\n",
       "      <td>4.535284</td>\n",
       "      <td>8.041228</td>\n",
       "      <td>0</td>\n",
       "      <td>7.608374</td>\n",
       "      <td>0</td>\n",
       "    </tr>\n",
       "    <tr>\n",
       "      <th>1</th>\n",
       "      <td>0.300105</td>\n",
       "      <td>10.912849</td>\n",
       "      <td>6.513645</td>\n",
       "      <td>10.706359</td>\n",
       "      <td>4.066117</td>\n",
       "      <td>9.159632</td>\n",
       "      <td>9.149323</td>\n",
       "      <td>4.579750</td>\n",
       "      <td>8.041228</td>\n",
       "      <td>0</td>\n",
       "      <td>7.608374</td>\n",
       "      <td>0</td>\n",
       "    </tr>\n",
       "    <tr>\n",
       "      <th>2</th>\n",
       "      <td>-0.072571</td>\n",
       "      <td>11.680304</td>\n",
       "      <td>6.677965</td>\n",
       "      <td>11.600475</td>\n",
       "      <td>4.871373</td>\n",
       "      <td>9.005202</td>\n",
       "      <td>8.992459</td>\n",
       "      <td>4.636087</td>\n",
       "      <td>8.041228</td>\n",
       "      <td>0</td>\n",
       "      <td>7.608374</td>\n",
       "      <td>0</td>\n",
       "    </tr>\n",
       "    <tr>\n",
       "      <th>3</th>\n",
       "      <td>0.076961</td>\n",
       "      <td>11.277104</td>\n",
       "      <td>7.031741</td>\n",
       "      <td>11.184094</td>\n",
       "      <td>4.284689</td>\n",
       "      <td>8.667535</td>\n",
       "      <td>8.644249</td>\n",
       "      <td>4.896047</td>\n",
       "      <td>8.041228</td>\n",
       "      <td>0</td>\n",
       "      <td>7.608374</td>\n",
       "      <td>0</td>\n",
       "    </tr>\n",
       "    <tr>\n",
       "      <th>4</th>\n",
       "      <td>0.246860</td>\n",
       "      <td>10.840357</td>\n",
       "      <td>6.847453</td>\n",
       "      <td>10.688265</td>\n",
       "      <td>4.327834</td>\n",
       "      <td>8.729713</td>\n",
       "      <td>8.697222</td>\n",
       "      <td>5.286700</td>\n",
       "      <td>8.041228</td>\n",
       "      <td>0</td>\n",
       "      <td>7.608374</td>\n",
       "      <td>0</td>\n",
       "    </tr>\n",
       "  </tbody>\n",
       "</table>\n",
       "</div>"
      ],
      "text/plain": [
       "   AveragePrice  Total Volume      4046       4225      4770  Total Bags  \\\n",
       "0      0.285179     11.070329  6.943836  10.905127  3.874529    9.070718   \n",
       "1      0.300105     10.912849  6.513645  10.706359  4.066117    9.159632   \n",
       "2     -0.072571     11.680304  6.677965  11.600475  4.871373    9.005202   \n",
       "3      0.076961     11.277104  7.031741  11.184094  4.284689    8.667535   \n",
       "4      0.246860     10.840357  6.847453  10.688265  4.327834    8.729713   \n",
       "\n",
       "   Small Bags  Large Bags  XLarge Bags  type      year  region  \n",
       "0    9.059938    4.535284     8.041228     0  7.608374       0  \n",
       "1    9.149323    4.579750     8.041228     0  7.608374       0  \n",
       "2    8.992459    4.636087     8.041228     0  7.608374       0  \n",
       "3    8.644249    4.896047     8.041228     0  7.608374       0  \n",
       "4    8.697222    5.286700     8.041228     0  7.608374       0  "
      ]
     },
     "execution_count": 59,
     "metadata": {},
     "output_type": "execute_result"
    }
   ],
   "source": [
    "df.head()"
   ]
  },
  {
   "cell_type": "code",
   "execution_count": 60,
   "id": "c5dc8531",
   "metadata": {},
   "outputs": [],
   "source": [
    "#lets again divide the dataset into featurs and target\n",
    "x=df.drop(\"region\",axis=1)\n",
    "y=df[\"region\"]"
   ]
  },
  {
   "cell_type": "code",
   "execution_count": 70,
   "id": "6f891499",
   "metadata": {},
   "outputs": [],
   "source": [
    "from sklearn.linear_model import LogisticRegression\n",
    "from sklearn.neighbors import KNeighborsClassifier\n",
    "from sklearn.metrics import classification_report"
   ]
  },
  {
   "cell_type": "code",
   "execution_count": 63,
   "id": "9e8c85f3",
   "metadata": {},
   "outputs": [],
   "source": [
    "x_train,x_test,y_train,y_test =train_test_split(x,y,test_size=0.25,random_state=40)"
   ]
  },
  {
   "cell_type": "code",
   "execution_count": 64,
   "id": "cd2350cb",
   "metadata": {},
   "outputs": [
    {
     "data": {
      "text/html": [
       "<style>#sk-container-id-1 {color: black;background-color: white;}#sk-container-id-1 pre{padding: 0;}#sk-container-id-1 div.sk-toggleable {background-color: white;}#sk-container-id-1 label.sk-toggleable__label {cursor: pointer;display: block;width: 100%;margin-bottom: 0;padding: 0.3em;box-sizing: border-box;text-align: center;}#sk-container-id-1 label.sk-toggleable__label-arrow:before {content: \"▸\";float: left;margin-right: 0.25em;color: #696969;}#sk-container-id-1 label.sk-toggleable__label-arrow:hover:before {color: black;}#sk-container-id-1 div.sk-estimator:hover label.sk-toggleable__label-arrow:before {color: black;}#sk-container-id-1 div.sk-toggleable__content {max-height: 0;max-width: 0;overflow: hidden;text-align: left;background-color: #f0f8ff;}#sk-container-id-1 div.sk-toggleable__content pre {margin: 0.2em;color: black;border-radius: 0.25em;background-color: #f0f8ff;}#sk-container-id-1 input.sk-toggleable__control:checked~div.sk-toggleable__content {max-height: 200px;max-width: 100%;overflow: auto;}#sk-container-id-1 input.sk-toggleable__control:checked~label.sk-toggleable__label-arrow:before {content: \"▾\";}#sk-container-id-1 div.sk-estimator input.sk-toggleable__control:checked~label.sk-toggleable__label {background-color: #d4ebff;}#sk-container-id-1 div.sk-label input.sk-toggleable__control:checked~label.sk-toggleable__label {background-color: #d4ebff;}#sk-container-id-1 input.sk-hidden--visually {border: 0;clip: rect(1px 1px 1px 1px);clip: rect(1px, 1px, 1px, 1px);height: 1px;margin: -1px;overflow: hidden;padding: 0;position: absolute;width: 1px;}#sk-container-id-1 div.sk-estimator {font-family: monospace;background-color: #f0f8ff;border: 1px dotted black;border-radius: 0.25em;box-sizing: border-box;margin-bottom: 0.5em;}#sk-container-id-1 div.sk-estimator:hover {background-color: #d4ebff;}#sk-container-id-1 div.sk-parallel-item::after {content: \"\";width: 100%;border-bottom: 1px solid gray;flex-grow: 1;}#sk-container-id-1 div.sk-label:hover label.sk-toggleable__label {background-color: #d4ebff;}#sk-container-id-1 div.sk-serial::before {content: \"\";position: absolute;border-left: 1px solid gray;box-sizing: border-box;top: 0;bottom: 0;left: 50%;z-index: 0;}#sk-container-id-1 div.sk-serial {display: flex;flex-direction: column;align-items: center;background-color: white;padding-right: 0.2em;padding-left: 0.2em;position: relative;}#sk-container-id-1 div.sk-item {position: relative;z-index: 1;}#sk-container-id-1 div.sk-parallel {display: flex;align-items: stretch;justify-content: center;background-color: white;position: relative;}#sk-container-id-1 div.sk-item::before, #sk-container-id-1 div.sk-parallel-item::before {content: \"\";position: absolute;border-left: 1px solid gray;box-sizing: border-box;top: 0;bottom: 0;left: 50%;z-index: -1;}#sk-container-id-1 div.sk-parallel-item {display: flex;flex-direction: column;z-index: 1;position: relative;background-color: white;}#sk-container-id-1 div.sk-parallel-item:first-child::after {align-self: flex-end;width: 50%;}#sk-container-id-1 div.sk-parallel-item:last-child::after {align-self: flex-start;width: 50%;}#sk-container-id-1 div.sk-parallel-item:only-child::after {width: 0;}#sk-container-id-1 div.sk-dashed-wrapped {border: 1px dashed gray;margin: 0 0.4em 0.5em 0.4em;box-sizing: border-box;padding-bottom: 0.4em;background-color: white;}#sk-container-id-1 div.sk-label label {font-family: monospace;font-weight: bold;display: inline-block;line-height: 1.2em;}#sk-container-id-1 div.sk-label-container {text-align: center;}#sk-container-id-1 div.sk-container {/* jupyter's `normalize.less` sets `[hidden] { display: none; }` but bootstrap.min.css set `[hidden] { display: none !important; }` so we also need the `!important` here to be able to override the default hidden behavior on the sphinx rendered scikit-learn.org. See: https://github.com/scikit-learn/scikit-learn/issues/21755 */display: inline-block !important;position: relative;}#sk-container-id-1 div.sk-text-repr-fallback {display: none;}</style><div id=\"sk-container-id-1\" class=\"sk-top-container\"><div class=\"sk-text-repr-fallback\"><pre>LogisticRegression()</pre><b>In a Jupyter environment, please rerun this cell to show the HTML representation or trust the notebook. <br />On GitHub, the HTML representation is unable to render, please try loading this page with nbviewer.org.</b></div><div class=\"sk-container\" hidden><div class=\"sk-item\"><div class=\"sk-estimator sk-toggleable\"><input class=\"sk-toggleable__control sk-hidden--visually\" id=\"sk-estimator-id-1\" type=\"checkbox\" checked><label for=\"sk-estimator-id-1\" class=\"sk-toggleable__label sk-toggleable__label-arrow\">LogisticRegression</label><div class=\"sk-toggleable__content\"><pre>LogisticRegression()</pre></div></div></div></div></div>"
      ],
      "text/plain": [
       "LogisticRegression()"
      ]
     },
     "execution_count": 64,
     "metadata": {},
     "output_type": "execute_result"
    }
   ],
   "source": [
    "log_reg=LogisticRegression()\n",
    "log_reg.fit(x_train,y_train)"
   ]
  },
  {
   "cell_type": "code",
   "execution_count": 65,
   "id": "6a6b92ee",
   "metadata": {},
   "outputs": [
    {
     "data": {
      "text/plain": [
       "0.26868288406749946"
      ]
     },
     "execution_count": 65,
     "metadata": {},
     "output_type": "execute_result"
    }
   ],
   "source": [
    "pred=log_reg.predict(x_test)\n",
    "accuracy=accuracy_score(y_test,pred)\n",
    "accuracy"
   ]
  },
  {
   "cell_type": "code",
   "execution_count": 71,
   "id": "d200bc67",
   "metadata": {},
   "outputs": [],
   "source": [
    "def metric_score(clf,x_train,x_test,y_train,y_test,train=True):\n",
    "    if train:\n",
    "        y_pred=clf.predict(x_train)\n",
    "        print(\"\\n===========train result==========\\n\")\n",
    "        print(f\"accuracr score:{accuracy_score(y_train,y_pred)*100:.2f}%\")\n",
    "    elif train==False:\n",
    "        pred=clf.predict(x_test)\n",
    "        print(\"\\n =========test result=========\")\n",
    "        print(f\"accuracy score:{accuracy_score(y_test,pred)*100:.2f}%\")\n",
    "        print(\"\\n\\n test classification report \\n\",classification_report(y_test,pred,digits=2))\n"
   ]
  },
  {
   "cell_type": "code",
   "execution_count": 67,
   "id": "87e7005c",
   "metadata": {},
   "outputs": [],
   "source": [
    "knn=KNeighborsClassifier()"
   ]
  },
  {
   "cell_type": "code",
   "execution_count": 68,
   "id": "f3db50c1",
   "metadata": {},
   "outputs": [
    {
     "data": {
      "text/html": [
       "<style>#sk-container-id-2 {color: black;background-color: white;}#sk-container-id-2 pre{padding: 0;}#sk-container-id-2 div.sk-toggleable {background-color: white;}#sk-container-id-2 label.sk-toggleable__label {cursor: pointer;display: block;width: 100%;margin-bottom: 0;padding: 0.3em;box-sizing: border-box;text-align: center;}#sk-container-id-2 label.sk-toggleable__label-arrow:before {content: \"▸\";float: left;margin-right: 0.25em;color: #696969;}#sk-container-id-2 label.sk-toggleable__label-arrow:hover:before {color: black;}#sk-container-id-2 div.sk-estimator:hover label.sk-toggleable__label-arrow:before {color: black;}#sk-container-id-2 div.sk-toggleable__content {max-height: 0;max-width: 0;overflow: hidden;text-align: left;background-color: #f0f8ff;}#sk-container-id-2 div.sk-toggleable__content pre {margin: 0.2em;color: black;border-radius: 0.25em;background-color: #f0f8ff;}#sk-container-id-2 input.sk-toggleable__control:checked~div.sk-toggleable__content {max-height: 200px;max-width: 100%;overflow: auto;}#sk-container-id-2 input.sk-toggleable__control:checked~label.sk-toggleable__label-arrow:before {content: \"▾\";}#sk-container-id-2 div.sk-estimator input.sk-toggleable__control:checked~label.sk-toggleable__label {background-color: #d4ebff;}#sk-container-id-2 div.sk-label input.sk-toggleable__control:checked~label.sk-toggleable__label {background-color: #d4ebff;}#sk-container-id-2 input.sk-hidden--visually {border: 0;clip: rect(1px 1px 1px 1px);clip: rect(1px, 1px, 1px, 1px);height: 1px;margin: -1px;overflow: hidden;padding: 0;position: absolute;width: 1px;}#sk-container-id-2 div.sk-estimator {font-family: monospace;background-color: #f0f8ff;border: 1px dotted black;border-radius: 0.25em;box-sizing: border-box;margin-bottom: 0.5em;}#sk-container-id-2 div.sk-estimator:hover {background-color: #d4ebff;}#sk-container-id-2 div.sk-parallel-item::after {content: \"\";width: 100%;border-bottom: 1px solid gray;flex-grow: 1;}#sk-container-id-2 div.sk-label:hover label.sk-toggleable__label {background-color: #d4ebff;}#sk-container-id-2 div.sk-serial::before {content: \"\";position: absolute;border-left: 1px solid gray;box-sizing: border-box;top: 0;bottom: 0;left: 50%;z-index: 0;}#sk-container-id-2 div.sk-serial {display: flex;flex-direction: column;align-items: center;background-color: white;padding-right: 0.2em;padding-left: 0.2em;position: relative;}#sk-container-id-2 div.sk-item {position: relative;z-index: 1;}#sk-container-id-2 div.sk-parallel {display: flex;align-items: stretch;justify-content: center;background-color: white;position: relative;}#sk-container-id-2 div.sk-item::before, #sk-container-id-2 div.sk-parallel-item::before {content: \"\";position: absolute;border-left: 1px solid gray;box-sizing: border-box;top: 0;bottom: 0;left: 50%;z-index: -1;}#sk-container-id-2 div.sk-parallel-item {display: flex;flex-direction: column;z-index: 1;position: relative;background-color: white;}#sk-container-id-2 div.sk-parallel-item:first-child::after {align-self: flex-end;width: 50%;}#sk-container-id-2 div.sk-parallel-item:last-child::after {align-self: flex-start;width: 50%;}#sk-container-id-2 div.sk-parallel-item:only-child::after {width: 0;}#sk-container-id-2 div.sk-dashed-wrapped {border: 1px dashed gray;margin: 0 0.4em 0.5em 0.4em;box-sizing: border-box;padding-bottom: 0.4em;background-color: white;}#sk-container-id-2 div.sk-label label {font-family: monospace;font-weight: bold;display: inline-block;line-height: 1.2em;}#sk-container-id-2 div.sk-label-container {text-align: center;}#sk-container-id-2 div.sk-container {/* jupyter's `normalize.less` sets `[hidden] { display: none; }` but bootstrap.min.css set `[hidden] { display: none !important; }` so we also need the `!important` here to be able to override the default hidden behavior on the sphinx rendered scikit-learn.org. See: https://github.com/scikit-learn/scikit-learn/issues/21755 */display: inline-block !important;position: relative;}#sk-container-id-2 div.sk-text-repr-fallback {display: none;}</style><div id=\"sk-container-id-2\" class=\"sk-top-container\"><div class=\"sk-text-repr-fallback\"><pre>KNeighborsClassifier()</pre><b>In a Jupyter environment, please rerun this cell to show the HTML representation or trust the notebook. <br />On GitHub, the HTML representation is unable to render, please try loading this page with nbviewer.org.</b></div><div class=\"sk-container\" hidden><div class=\"sk-item\"><div class=\"sk-estimator sk-toggleable\"><input class=\"sk-toggleable__control sk-hidden--visually\" id=\"sk-estimator-id-2\" type=\"checkbox\" checked><label for=\"sk-estimator-id-2\" class=\"sk-toggleable__label sk-toggleable__label-arrow\">KNeighborsClassifier</label><div class=\"sk-toggleable__content\"><pre>KNeighborsClassifier()</pre></div></div></div></div></div>"
      ],
      "text/plain": [
       "KNeighborsClassifier()"
      ]
     },
     "execution_count": 68,
     "metadata": {},
     "output_type": "execute_result"
    }
   ],
   "source": [
    "knn.fit(x_train,y_train)"
   ]
  },
  {
   "cell_type": "code",
   "execution_count": 72,
   "id": "700b2ec4",
   "metadata": {},
   "outputs": [
    {
     "name": "stdout",
     "output_type": "stream",
     "text": [
      "training score\n",
      "\n",
      "===========train result==========\n",
      "\n",
      "accuracr score:88.91%\n",
      "testing score\n",
      "\n",
      " =========test result=========\n",
      "accuracy score:81.88%\n",
      "\n",
      "\n",
      " test classification report \n",
      "               precision    recall  f1-score   support\n",
      "\n",
      "           0       0.81      0.87      0.84        89\n",
      "           1       0.69      0.75      0.72        81\n",
      "           2       0.85      0.97      0.91        77\n",
      "           3       0.84      0.78      0.81        86\n",
      "           4       0.85      0.84      0.85        82\n",
      "           5       0.69      0.66      0.67        73\n",
      "           6       0.95      0.94      0.94        93\n",
      "           7       0.81      0.90      0.85        84\n",
      "           8       0.94      0.92      0.93        65\n",
      "           9       0.79      0.78      0.79        78\n",
      "          10       0.68      0.77      0.72        95\n",
      "          11       0.90      0.90      0.90        87\n",
      "          12       0.95      0.87      0.91        83\n",
      "          13       0.80      0.74      0.77        94\n",
      "          14       0.84      0.84      0.84        82\n",
      "          15       0.97      0.97      0.97        89\n",
      "          16       0.92      0.92      0.92        78\n",
      "          17       0.76      0.83      0.79        82\n",
      "          18       0.89      0.85      0.87        97\n",
      "          19       0.74      0.85      0.79        85\n",
      "          20       0.88      0.80      0.84        71\n",
      "          21       0.65      0.74      0.69        87\n",
      "          22       0.96      0.95      0.96        82\n",
      "          23       0.73      0.84      0.78        74\n",
      "          24       0.62      0.70      0.66        87\n",
      "          25       0.95      0.98      0.96        94\n",
      "          26       0.69      0.65      0.67        91\n",
      "          27       0.86      0.77      0.82        83\n",
      "          28       0.88      0.80      0.83        88\n",
      "          29       0.87      0.92      0.90        88\n",
      "          30       0.83      0.83      0.83        75\n",
      "          31       0.62      0.71      0.66        83\n",
      "          32       0.84      0.74      0.79       104\n",
      "          33       0.83      0.76      0.80        97\n",
      "          34       0.81      0.85      0.83        72\n",
      "          35       0.83      0.94      0.88        77\n",
      "          36       0.79      0.71      0.75        91\n",
      "          37       0.78      0.79      0.79        86\n",
      "          38       0.77      0.81      0.79        80\n",
      "          39       0.84      0.81      0.83        86\n",
      "          40       0.80      0.85      0.82        98\n",
      "          41       0.77      0.80      0.78        83\n",
      "          42       0.89      0.93      0.91        84\n",
      "          43       0.81      0.80      0.80        89\n",
      "          44       0.85      0.82      0.84        78\n",
      "          45       0.93      0.85      0.89        78\n",
      "          46       0.98      0.96      0.97        85\n",
      "          47       0.79      0.79      0.79        89\n",
      "          48       0.81      0.62      0.70        91\n",
      "          49       0.85      0.81      0.83        83\n",
      "          50       0.53      0.40      0.46        85\n",
      "          51       1.00      1.00      1.00        85\n",
      "          52       0.91      0.95      0.93        79\n",
      "          53       0.73      0.69      0.71        80\n",
      "\n",
      "    accuracy                           0.82      4563\n",
      "   macro avg       0.82      0.82      0.82      4563\n",
      "weighted avg       0.82      0.82      0.82      4563\n",
      "\n"
     ]
    }
   ],
   "source": [
    "print(\"training score\")\n",
    "metric_score(knn,x_train,x_test,y_train,y_test,train=True)\n",
    "print(\"testing score\")\n",
    "metric_score(knn,x_train,x_test,y_train,y_test,train=False)\n"
   ]
  },
  {
   "cell_type": "code",
   "execution_count": 73,
   "id": "ab7c8a7d",
   "metadata": {},
   "outputs": [],
   "source": [
    "# saving the model\n",
    "import pickle"
   ]
  },
  {
   "cell_type": "code",
   "execution_count": 74,
   "id": "0236e208",
   "metadata": {},
   "outputs": [],
   "source": [
    "pickle.dump(knn,open('avocado_model','wb'))"
   ]
  },
  {
   "cell_type": "code",
   "execution_count": 75,
   "id": "dc6489b5",
   "metadata": {},
   "outputs": [
    {
     "name": "stdout",
     "output_type": "stream",
     "text": [
      "81.87595879903571\n"
     ]
    }
   ],
   "source": [
    "loaded_model=pickle.load(open('avocado_model','rb'))\n",
    "result=loaded_model.score(x_test,y_test)\n",
    "print(result*100)"
   ]
  },
  {
   "cell_type": "code",
   "execution_count": 76,
   "id": "dbbfc4a8",
   "metadata": {},
   "outputs": [],
   "source": [
    "#=================thank you======================"
   ]
  },
  {
   "cell_type": "code",
   "execution_count": null,
   "id": "5071581b",
   "metadata": {},
   "outputs": [],
   "source": []
  }
 ],
 "metadata": {
  "kernelspec": {
   "display_name": "Python 3 (ipykernel)",
   "language": "python",
   "name": "python3"
  },
  "language_info": {
   "codemirror_mode": {
    "name": "ipython",
    "version": 3
   },
   "file_extension": ".py",
   "mimetype": "text/x-python",
   "name": "python",
   "nbconvert_exporter": "python",
   "pygments_lexer": "ipython3",
   "version": "3.9.12"
  }
 },
 "nbformat": 4,
 "nbformat_minor": 5
}
